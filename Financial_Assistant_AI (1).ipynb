{
  "cells": [
    {
      "cell_type": "code",
      "execution_count": 13,
      "metadata": {
        "colab": {
          "base_uri": "https://localhost:8080/"
        },
        "id": "a74b_aSIdP_I",
        "outputId": "b84bf1f3-ff2c-41ab-b254-f107c0f3164d"
      },
      "outputs": [
        {
          "name": "stdout",
          "output_type": "stream",
          "text": [
            "\n",
            "Your Financial Summary:\n",
            "Monthly Income: ₹70000.0\n",
            "Monthly Expenses: ₹30000.0\n",
            "Financial Goal: car\n"
          ]
        }
      ],
      "source": [
        "# Step 1: Collecting User Data\n",
        "\n",
        "# Asking the user for their financial information\n",
        "income = float(input(\"Enter your monthly income (in ₹): \"))\n",
        "expenses = float(input(\"Enter your total monthly expenses (in ₹): \"))\n",
        "goal = input(\"What is your primary financial goal? (e.g., save for vacation, buy a car, invest, etc.): \")\n",
        "\n",
        "# Print what the user entered\n",
        "print(\"\\nYour Financial Summary:\")\n",
        "print(f\"Monthly Income: ₹{income}\")\n",
        "print(f\"Monthly Expenses: ₹{expenses}\")\n",
        "print(f\"Financial Goal: {goal}\")\n"
      ]
    },
    {
      "cell_type": "code",
      "execution_count": 14,
      "metadata": {
        "colab": {
          "base_uri": "https://localhost:8080/"
        },
        "id": "kiE1-qpoemsN",
        "outputId": "326dd8f0-eb2d-4913-db28-d4e26743e667"
      },
      "outputs": [
        {
          "name": "stdout",
          "output_type": "stream",
          "text": [
            "Budget Suggestion:\n",
            "Suggested budget (based on the 50/30/20 rule):\n",
            "  - Needs (rent, food, bills): ₹35000.0\n",
            "  - Wants (entertainment, eating out): ₹21000.0\n",
            "  - Savings/Investments: ₹14000.0\n",
            "Suggestion: Start a recurring deposit with ₹ 20000\n"
          ]
        }
      ],
      "source": [
        "# Step 2: Basic Budget Suggestion\n",
        "\n",
        "# Calculate the remaining balance\n",
        "balance = income - expenses\n",
        "\n",
        "# Suggest budgeting strategy\n",
        "print(\"Budget Suggestion:\")\n",
        "if balance <= 0:\n",
        "    print(\"You're spending more or equal to your income. Consider reducing unnecessary expenses.\")\n",
        "else:\n",
        "    # 50/30/20 Budget Rule\n",
        "    needs = income * 0.5\n",
        "    wants = income * 0.3\n",
        "    savings = income * 0.2\n",
        "\n",
        "    print(f\"Suggested budget (based on the 50/30/20 rule):\")\n",
        "    print(f\"  - Needs (rent, food, bills): ₹{needs}\")\n",
        "    print(f\"  - Wants (entertainment, eating out): ₹{wants}\")\n",
        "    print(f\"  - Savings/Investments: ₹{savings}\")\n",
        "\n",
        "    # Compare actual spending\n",
        "    if expenses > needs + wants:\n",
        "        print(\"Tip: You're spending too much. Try cutting down on wants.\")\n",
        "\n",
        "    # Simple goal suggestion\n",
        "    if goal.lower() in [\"save\", \"vacation\", \"car\", \"house\", \"invest\"]:\n",
        "        print(\"Suggestion: Start a recurring deposit with ₹\", round(balance * 0.5))\n"
      ]
    },
    {
      "cell_type": "code",
      "execution_count": 15,
      "metadata": {
        "colab": {
          "base_uri": "https://localhost:8080/"
        },
        "id": "32Dnp3YlfIzM",
        "outputId": "d3628d1e-0bd8-4cd9-915f-6d7cc072257c"
      },
      "outputs": [
        {
          "name": "stdout",
          "output_type": "stream",
          "text": [
            "Personalized Recommendations:\n",
            "You can afford a basic health insurance plan (~₹500/month). Check out government schemes like Ayushman Bharat or private plans like Star Health.\n",
            "Consider starting a SIP (Systematic Investment Plan) in mutual funds with ₹500–1000/month.\n",
            "You can use apps like Groww, Zerodha Coin, or Paytm Money to start.\n",
            "Suggestion: Open a Recurring Deposit (RD) or Fixed Deposit (FD) for your goal.\n"
          ]
        }
      ],
      "source": [
        "# Step 3: Rule-Based Recommendations (Mini AI)\n",
        "\n",
        "print(\"Personalized Recommendations:\")\n",
        "\n",
        "# Insurance suggestion\n",
        "if income > 25000 and balance > 5000:\n",
        "    print(\"You can afford a basic health insurance plan (~₹500/month). Check out government schemes like Ayushman Bharat or private plans like Star Health.\")\n",
        "else:\n",
        "    print(\"Tip: Consider a government-backed insurance plan with low premiums like PM-JAY.\")\n",
        "\n",
        "# Investment options\n",
        "if balance > 3000:\n",
        "    print(\"Consider starting a SIP (Systematic Investment Plan) in mutual funds with ₹500–1000/month.\")\n",
        "    print(\"You can use apps like Groww, Zerodha Coin, or Paytm Money to start.\")\n",
        "else:\n",
        "    print(\"Your current balance is a bit low for investments. First focus on saving ₹1000–₹2000/month.\")\n",
        "\n",
        "# Savings goal tip\n",
        "if goal.lower() in [\"car\", \"vacation\", \"house\"]:\n",
        "    print(\"Suggestion: Open a Recurring Deposit (RD) or Fixed Deposit (FD) for your goal.\")\n"
      ]
    },
    {
      "cell_type": "code",
      "execution_count": 16,
      "metadata": {
        "colab": {
          "base_uri": "https://localhost:8080/",
          "height": 223
        },
        "id": "UQrC08QCfWan",
        "outputId": "69c6b919-f857-4252-9843-3ee9ab708ec2"
      },
      "outputs": [
        {
          "name": "stdout",
          "output_type": "stream",
          "text": [
            "Dataset generated and saved as 'synthetic_finance_data.csv'\n"
          ]
        },
        {
          "data": {
            "text/html": [
              "<div>\n",
              "<style scoped>\n",
              "    .dataframe tbody tr th:only-of-type {\n",
              "        vertical-align: middle;\n",
              "    }\n",
              "\n",
              "    .dataframe tbody tr th {\n",
              "        vertical-align: top;\n",
              "    }\n",
              "\n",
              "    .dataframe thead th {\n",
              "        text-align: right;\n",
              "    }\n",
              "</style>\n",
              "<table border=\"1\" class=\"dataframe\">\n",
              "  <thead>\n",
              "    <tr style=\"text-align: right;\">\n",
              "      <th></th>\n",
              "      <th>Income</th>\n",
              "      <th>Expenses</th>\n",
              "      <th>Goal</th>\n",
              "      <th>Risk_Level</th>\n",
              "      <th>Savings_Recommended</th>\n",
              "      <th>Invest_Recommended</th>\n",
              "      <th>Insurance_Recommended</th>\n",
              "    </tr>\n",
              "  </thead>\n",
              "  <tbody>\n",
              "    <tr>\n",
              "      <th>0</th>\n",
              "      <td>23214</td>\n",
              "      <td>18706</td>\n",
              "      <td>buy_car</td>\n",
              "      <td>low</td>\n",
              "      <td>2254</td>\n",
              "      <td>No</td>\n",
              "      <td>No</td>\n",
              "    </tr>\n",
              "    <tr>\n",
              "      <th>1</th>\n",
              "      <td>87306</td>\n",
              "      <td>57871</td>\n",
              "      <td>buy_house</td>\n",
              "      <td>medium</td>\n",
              "      <td>14717</td>\n",
              "      <td>Yes</td>\n",
              "      <td>Yes</td>\n",
              "    </tr>\n",
              "    <tr>\n",
              "      <th>2</th>\n",
              "      <td>71486</td>\n",
              "      <td>44759</td>\n",
              "      <td>buy_car</td>\n",
              "      <td>high</td>\n",
              "      <td>13363</td>\n",
              "      <td>Yes</td>\n",
              "      <td>Yes</td>\n",
              "    </tr>\n",
              "    <tr>\n",
              "      <th>3</th>\n",
              "      <td>53130</td>\n",
              "      <td>38070</td>\n",
              "      <td>emergency_fund</td>\n",
              "      <td>high</td>\n",
              "      <td>7530</td>\n",
              "      <td>Yes</td>\n",
              "      <td>Yes</td>\n",
              "    </tr>\n",
              "    <tr>\n",
              "      <th>4</th>\n",
              "      <td>42620</td>\n",
              "      <td>35710</td>\n",
              "      <td>emergency_fund</td>\n",
              "      <td>low</td>\n",
              "      <td>3455</td>\n",
              "      <td>No</td>\n",
              "      <td>Yes</td>\n",
              "    </tr>\n",
              "  </tbody>\n",
              "</table>\n",
              "</div>"
            ],
            "text/plain": [
              "   Income  Expenses            Goal Risk_Level  Savings_Recommended  \\\n",
              "0   23214     18706         buy_car        low                 2254   \n",
              "1   87306     57871       buy_house     medium                14717   \n",
              "2   71486     44759         buy_car       high                13363   \n",
              "3   53130     38070  emergency_fund       high                 7530   \n",
              "4   42620     35710  emergency_fund        low                 3455   \n",
              "\n",
              "  Invest_Recommended Insurance_Recommended  \n",
              "0                 No                    No  \n",
              "1                Yes                   Yes  \n",
              "2                Yes                   Yes  \n",
              "3                Yes                   Yes  \n",
              "4                 No                   Yes  "
            ]
          },
          "execution_count": 16,
          "metadata": {},
          "output_type": "execute_result"
        }
      ],
      "source": [
        "import pandas as pd\n",
        "import random\n",
        "\n",
        "# Define possible options\n",
        "goals = ['vacation', 'retirement', 'emergency_fund', 'buy_car', 'buy_house']\n",
        "risk_levels = ['low', 'medium', 'high']\n",
        "\n",
        "# Generate 1000 rows of synthetic data\n",
        "data = []\n",
        "for _ in range(1000):\n",
        "    income = random.randint(15000, 100000)\n",
        "    expenses = random.randint(int(income * 0.5), int(income * 0.9))\n",
        "    goal = random.choice(goals)\n",
        "    risk = random.choice(risk_levels)\n",
        "\n",
        "    # Rule-based logic to create labels\n",
        "    savings = income - expenses\n",
        "    savings_recommended = max(1000, int(savings * 0.5)) if savings > 0 else 0\n",
        "    invest = 'Yes' if savings > 3000 and risk in ['medium', 'high'] else 'No'\n",
        "    insurance = 'Yes' if income > 25000 and expenses > (income * 0.6) else 'No'\n",
        "\n",
        "    data.append([income, expenses, goal, risk, savings_recommended, invest, insurance])\n",
        "\n",
        "# Create DataFrame\n",
        "df = pd.DataFrame(data, columns=[\n",
        "    'Income', 'Expenses', 'Goal', 'Risk_Level',\n",
        "    'Savings_Recommended', 'Invest_Recommended', 'Insurance_Recommended'\n",
        "])\n",
        "\n",
        "# Save as CSV\n",
        "df.to_csv('synthetic_finance_data.csv', index=False)\n",
        "print(\"Dataset generated and saved as 'synthetic_finance_data.csv'\")\n",
        "\n",
        "# Preview the data\n",
        "df.head()\n"
      ]
    },
    {
      "cell_type": "code",
      "execution_count": 17,
      "metadata": {
        "colab": {
          "base_uri": "https://localhost:8080/",
          "height": 223
        },
        "id": "uZIOoz-hf45g",
        "outputId": "34a0f5fe-cadf-4117-eb72-c5b9eb129a58"
      },
      "outputs": [
        {
          "name": "stdout",
          "output_type": "stream",
          "text": [
            "Here's a preview of your dataset:\n"
          ]
        },
        {
          "data": {
            "text/html": [
              "<div>\n",
              "<style scoped>\n",
              "    .dataframe tbody tr th:only-of-type {\n",
              "        vertical-align: middle;\n",
              "    }\n",
              "\n",
              "    .dataframe tbody tr th {\n",
              "        vertical-align: top;\n",
              "    }\n",
              "\n",
              "    .dataframe thead th {\n",
              "        text-align: right;\n",
              "    }\n",
              "</style>\n",
              "<table border=\"1\" class=\"dataframe\">\n",
              "  <thead>\n",
              "    <tr style=\"text-align: right;\">\n",
              "      <th></th>\n",
              "      <th>Income</th>\n",
              "      <th>Expenses</th>\n",
              "      <th>Goal</th>\n",
              "      <th>Risk_Level</th>\n",
              "      <th>Savings_Recommended</th>\n",
              "      <th>Invest_Recommended</th>\n",
              "      <th>Insurance_Recommended</th>\n",
              "    </tr>\n",
              "  </thead>\n",
              "  <tbody>\n",
              "    <tr>\n",
              "      <th>0</th>\n",
              "      <td>23214</td>\n",
              "      <td>18706</td>\n",
              "      <td>buy_car</td>\n",
              "      <td>low</td>\n",
              "      <td>2254</td>\n",
              "      <td>No</td>\n",
              "      <td>No</td>\n",
              "    </tr>\n",
              "    <tr>\n",
              "      <th>1</th>\n",
              "      <td>87306</td>\n",
              "      <td>57871</td>\n",
              "      <td>buy_house</td>\n",
              "      <td>medium</td>\n",
              "      <td>14717</td>\n",
              "      <td>Yes</td>\n",
              "      <td>Yes</td>\n",
              "    </tr>\n",
              "    <tr>\n",
              "      <th>2</th>\n",
              "      <td>71486</td>\n",
              "      <td>44759</td>\n",
              "      <td>buy_car</td>\n",
              "      <td>high</td>\n",
              "      <td>13363</td>\n",
              "      <td>Yes</td>\n",
              "      <td>Yes</td>\n",
              "    </tr>\n",
              "    <tr>\n",
              "      <th>3</th>\n",
              "      <td>53130</td>\n",
              "      <td>38070</td>\n",
              "      <td>emergency_fund</td>\n",
              "      <td>high</td>\n",
              "      <td>7530</td>\n",
              "      <td>Yes</td>\n",
              "      <td>Yes</td>\n",
              "    </tr>\n",
              "    <tr>\n",
              "      <th>4</th>\n",
              "      <td>42620</td>\n",
              "      <td>35710</td>\n",
              "      <td>emergency_fund</td>\n",
              "      <td>low</td>\n",
              "      <td>3455</td>\n",
              "      <td>No</td>\n",
              "      <td>Yes</td>\n",
              "    </tr>\n",
              "  </tbody>\n",
              "</table>\n",
              "</div>"
            ],
            "text/plain": [
              "   Income  Expenses            Goal Risk_Level  Savings_Recommended  \\\n",
              "0   23214     18706         buy_car        low                 2254   \n",
              "1   87306     57871       buy_house     medium                14717   \n",
              "2   71486     44759         buy_car       high                13363   \n",
              "3   53130     38070  emergency_fund       high                 7530   \n",
              "4   42620     35710  emergency_fund        low                 3455   \n",
              "\n",
              "  Invest_Recommended Insurance_Recommended  \n",
              "0                 No                    No  \n",
              "1                Yes                   Yes  \n",
              "2                Yes                   Yes  \n",
              "3                Yes                   Yes  \n",
              "4                 No                   Yes  "
            ]
          },
          "execution_count": 17,
          "metadata": {},
          "output_type": "execute_result"
        }
      ],
      "source": [
        "# Importing pandas and matplotlib for data exploration and visualization\n",
        "import pandas as pd\n",
        "import matplotlib.pyplot as plt\n",
        "\n",
        "# Load the CSV file we just created\n",
        "df = pd.read_csv('synthetic_finance_data.csv')\n",
        "\n",
        "# Show the first 5 rows of the dataset\n",
        "print(\"Here's a preview of your dataset:\")\n",
        "df.head()\n"
      ]
    },
    {
      "cell_type": "code",
      "execution_count": 18,
      "metadata": {
        "colab": {
          "base_uri": "https://localhost:8080/"
        },
        "id": "p_gK-v--f93c",
        "outputId": "54a9eb35-f357-41a3-c88d-bd32697e89f4"
      },
      "outputs": [
        {
          "name": "stdout",
          "output_type": "stream",
          "text": [
            "Summary statistics for numeric data:\n",
            "             Income      Expenses  Savings_Recommended\n",
            "count   1000.000000   1000.000000          1000.000000\n",
            "mean   57419.329000  40237.634000          8590.835000\n",
            "std    24507.833708  18771.485087          5001.527697\n",
            "min    15011.000000   8518.000000          1000.000000\n",
            "25%    35805.750000  24917.000000          4571.250000\n",
            "50%    56830.000000  38732.000000          7577.500000\n",
            "75%    79826.750000  54001.750000         11785.500000\n",
            "max    99978.000000  88242.000000         23983.000000\n",
            "\n",
            "Unique values in 'Goal' and 'Risk_Level':\n",
            "Goals: ['buy_car' 'buy_house' 'emergency_fund' 'retirement' 'vacation']\n",
            "Risk Levels: ['low' 'medium' 'high']\n",
            "\n",
            "Count of each financial goal:\n",
            "Goal\n",
            "buy_car           222\n",
            "buy_house         213\n",
            "vacation          197\n",
            "retirement        193\n",
            "emergency_fund    175\n",
            "Name: count, dtype: int64\n",
            "\n",
            "Investment and Insurance Recommendations:\n",
            "Invest_Recommended  Insurance_Recommended\n",
            "Yes                 Yes                      440\n",
            "No                  Yes                      225\n",
            "Yes                 No                       211\n",
            "No                  No                       124\n",
            "Name: count, dtype: int64\n"
          ]
        }
      ],
      "source": [
        "# Summary statistics for numeric columns\n",
        "print(\"Summary statistics for numeric data:\")\n",
        "print(df.describe())\n",
        "\n",
        "# Check unique values in goal and risk\n",
        "print(\"\\nUnique values in 'Goal' and 'Risk_Level':\")\n",
        "print(\"Goals:\", df['Goal'].unique())\n",
        "print(\"Risk Levels:\", df['Risk_Level'].unique())\n",
        "\n",
        "# Count how often each goal occurs\n",
        "print(\"\\nCount of each financial goal:\")\n",
        "print(df['Goal'].value_counts())\n",
        "\n",
        "# Count how often investment/insurance is recommended\n",
        "print(\"\\nInvestment and Insurance Recommendations:\")\n",
        "print(df[['Invest_Recommended', 'Insurance_Recommended']].value_counts())\n"
      ]
    },
    {
      "cell_type": "code",
      "execution_count": 19,
      "metadata": {
        "colab": {
          "base_uri": "https://localhost:8080/",
          "height": 1000
        },
        "id": "XgNNEM6VgRIX",
        "outputId": "bf17d36e-b47c-4f88-c8fc-11c0f588e841"
      },
      "outputs": [
        {
          "data": {
            "image/png": "[encoded data removed]",
            "text/plain": [
              "<Figure size 640x480 with 1 Axes>"
            ]
          },
          "metadata": {},
          "output_type": "display_data"
        },
        {
          "name": "stdout",
          "output_type": "stream",
          "text": [
            "\n"
          ]
        },
        {
          "data": {
            "image/png": "[encoded data removed]",
            "text/plain": [
              "<Figure size 640x480 with 1 Axes>"
            ]
          },
          "metadata": {},
          "output_type": "display_data"
        }
      ],
      "source": [
        "# Bar chart: Frequency of financial goals\n",
        "df['Goal'].value_counts().plot(kind='bar', color='skyblue')\n",
        "plt.title(\"Distribution of Financial Goals\")\n",
        "plt.xlabel(\"Goal\")\n",
        "plt.ylabel(\"Number of Users\")\n",
        "plt.show()\n",
        "\n",
        "print()\n",
        "\n",
        "# Pie chart: Investment recommendations\n",
        "df['Invest_Recommended'].value_counts().plot(kind='pie', autopct='%1.1f%%', startangle=90)\n",
        "plt.title(\"Investment Recommendation Breakdown\")\n",
        "plt.ylabel(\"\")\n",
        "plt.show()\n"
      ]
    },
    {
      "cell_type": "code",
      "execution_count": 20,
      "metadata": {
        "colab": {
          "base_uri": "https://localhost:8080/",
          "height": 206
        },
        "id": "65TEGtA8gf6F",
        "outputId": "ee7fc75a-14c3-4fb4-8e84-93d7412fa898"
      },
      "outputs": [
        {
          "data": {
            "text/html": [
              "<div>\n",
              "<style scoped>\n",
              "    .dataframe tbody tr th:only-of-type {\n",
              "        vertical-align: middle;\n",
              "    }\n",
              "\n",
              "    .dataframe tbody tr th {\n",
              "        vertical-align: top;\n",
              "    }\n",
              "\n",
              "    .dataframe thead th {\n",
              "        text-align: right;\n",
              "    }\n",
              "</style>\n",
              "<table border=\"1\" class=\"dataframe\">\n",
              "  <thead>\n",
              "    <tr style=\"text-align: right;\">\n",
              "      <th></th>\n",
              "      <th>Income</th>\n",
              "      <th>Expenses</th>\n",
              "      <th>Goal_encoded</th>\n",
              "      <th>Risk_encoded</th>\n",
              "      <th>Savings_Recommended</th>\n",
              "      <th>Invest_encoded</th>\n",
              "      <th>Insurance_encoded</th>\n",
              "    </tr>\n",
              "  </thead>\n",
              "  <tbody>\n",
              "    <tr>\n",
              "      <th>0</th>\n",
              "      <td>23214</td>\n",
              "      <td>18706</td>\n",
              "      <td>0</td>\n",
              "      <td>1</td>\n",
              "      <td>2254</td>\n",
              "      <td>0</td>\n",
              "      <td>0</td>\n",
              "    </tr>\n",
              "    <tr>\n",
              "      <th>1</th>\n",
              "      <td>87306</td>\n",
              "      <td>57871</td>\n",
              "      <td>1</td>\n",
              "      <td>2</td>\n",
              "      <td>14717</td>\n",
              "      <td>1</td>\n",
              "      <td>1</td>\n",
              "    </tr>\n",
              "    <tr>\n",
              "      <th>2</th>\n",
              "      <td>71486</td>\n",
              "      <td>44759</td>\n",
              "      <td>0</td>\n",
              "      <td>0</td>\n",
              "      <td>13363</td>\n",
              "      <td>1</td>\n",
              "      <td>1</td>\n",
              "    </tr>\n",
              "    <tr>\n",
              "      <th>3</th>\n",
              "      <td>53130</td>\n",
              "      <td>38070</td>\n",
              "      <td>2</td>\n",
              "      <td>0</td>\n",
              "      <td>7530</td>\n",
              "      <td>1</td>\n",
              "      <td>1</td>\n",
              "    </tr>\n",
              "    <tr>\n",
              "      <th>4</th>\n",
              "      <td>42620</td>\n",
              "      <td>35710</td>\n",
              "      <td>2</td>\n",
              "      <td>1</td>\n",
              "      <td>3455</td>\n",
              "      <td>0</td>\n",
              "      <td>1</td>\n",
              "    </tr>\n",
              "  </tbody>\n",
              "</table>\n",
              "</div>"
            ],
            "text/plain": [
              "   Income  Expenses  Goal_encoded  Risk_encoded  Savings_Recommended  \\\n",
              "0   23214     18706             0             1                 2254   \n",
              "1   87306     57871             1             2                14717   \n",
              "2   71486     44759             0             0                13363   \n",
              "3   53130     38070             2             0                 7530   \n",
              "4   42620     35710             2             1                 3455   \n",
              "\n",
              "   Invest_encoded  Insurance_encoded  \n",
              "0               0                  0  \n",
              "1               1                  1  \n",
              "2               1                  1  \n",
              "3               1                  1  \n",
              "4               0                  1  "
            ]
          },
          "execution_count": 20,
          "metadata": {},
          "output_type": "execute_result"
        }
      ],
      "source": [
        "from sklearn.preprocessing import LabelEncoder\n",
        "\n",
        "# Create encoders for categorical columns\n",
        "goal_encoder = LabelEncoder()\n",
        "risk_encoder = LabelEncoder()\n",
        "invest_encoder = LabelEncoder()\n",
        "insurance_encoder = LabelEncoder()\n",
        "\n",
        "# Encode the text columns into numbers\n",
        "df['Goal_encoded'] = goal_encoder.fit_transform(df['Goal'])\n",
        "df['Risk_encoded'] = risk_encoder.fit_transform(df['Risk_Level'])\n",
        "df['Invest_encoded'] = invest_encoder.fit_transform(df['Invest_Recommended'])  # Target\n",
        "df['Insurance_encoded'] = insurance_encoder.fit_transform(df['Insurance_Recommended'])  # Target\n",
        "\n",
        "# Drop unused columns (keep only numeric data)\n",
        "df_model = df[['Income', 'Expenses', 'Goal_encoded', 'Risk_encoded',\n",
        "               'Savings_Recommended', 'Invest_encoded', 'Insurance_encoded']]\n",
        "\n",
        "df_model.head()\n"
      ]
    },
    {
      "cell_type": "code",
      "execution_count": 21,
      "metadata": {
        "colab": {
          "base_uri": "https://localhost:8080/"
        },
        "id": "CgxM60u1gi9w",
        "outputId": "1169a46b-9d5c-4f52-9416-963368fd76a1"
      },
      "outputs": [
        {
          "name": "stdout",
          "output_type": "stream",
          "text": [
            "Investment Model Accuracy: 1.0\n",
            "Insurance Model Accuracy: 0.94\n"
          ]
        }
      ],
      "source": [
        "from sklearn.model_selection import train_test_split\n",
        "from sklearn.tree import DecisionTreeClassifier\n",
        "from sklearn.metrics import accuracy_score\n",
        "\n",
        "# Features to use\n",
        "features = ['Income', 'Expenses', 'Goal_encoded', 'Risk_encoded', 'Savings_Recommended']\n",
        "\n",
        "# Split for investment model\n",
        "X_invest = df_model[features]\n",
        "y_invest = df_model['Invest_encoded']\n",
        "\n",
        "X_train_i, X_test_i, y_train_i, y_test_i = train_test_split(X_invest, y_invest, test_size=0.2, random_state=42)\n",
        "\n",
        "# Train investment recommendation model\n",
        "invest_model = DecisionTreeClassifier()\n",
        "invest_model.fit(X_train_i, y_train_i)\n",
        "\n",
        "# Evaluate\n",
        "y_pred_i = invest_model.predict(X_test_i)\n",
        "print(\"Investment Model Accuracy:\", accuracy_score(y_test_i, y_pred_i))\n",
        "\n",
        "# Split for insurance model\n",
        "y_insurance = df_model['Insurance_encoded']\n",
        "X_train_s, X_test_s, y_train_s, y_test_s = train_test_split(X_invest, y_insurance, test_size=0.2, random_state=42)\n",
        "\n",
        "# Train insurance recommendation model\n",
        "insurance_model = DecisionTreeClassifier()\n",
        "insurance_model.fit(X_train_s, y_train_s)\n",
        "\n",
        "# Evaluate\n",
        "y_pred_s = insurance_model.predict(X_test_s)\n",
        "print(\"Insurance Model Accuracy:\", accuracy_score(y_test_s, y_pred_s))\n"
      ]
    },
    {
      "cell_type": "code",
      "execution_count": 22,
      "metadata": {
        "id": "ZR8Xqp7FgwWH"
      },
      "outputs": [],
      "source": [
        "def financial_assistant(income, expenses, goal, risk_level):\n",
        "    # 1. Encode goal and risk\n",
        "    goal_num = goal_encoder.transform([goal])[0]\n",
        "    risk_num = risk_encoder.transform([risk_level])[0]\n",
        "\n",
        "    # 2. Estimate savings\n",
        "    savings = income - expenses\n",
        "    savings_recommended = max(1000, int(savings * 0.5)) if savings > 0 else 0\n",
        "\n",
        "    # 3. Create a DataFrame with column names\n",
        "    user_df = pd.DataFrame([{\n",
        "        'Income': income,\n",
        "        'Expenses': expenses,\n",
        "        'Goal_encoded': goal_num,\n",
        "        'Risk_encoded': risk_num,\n",
        "        'Savings_Recommended': savings_recommended\n",
        "    }])\n",
        "\n",
        "    # 4. Predict investment and insurance\n",
        "    invest_pred = invest_model.predict(user_df)[0]\n",
        "    insurance_pred = insurance_model.predict(user_df)[0]\n",
        "\n",
        "    # 5. Decode predictions\n",
        "    invest_result = invest_encoder.inverse_transform([invest_pred])[0]\n",
        "    insurance_result = insurance_encoder.inverse_transform([insurance_pred])[0]\n",
        "\n",
        "    # 6. Show results\n",
        "    print(\"Personalized Financial Plan\")\n",
        "    print(f\"- Monthly Income: ₹{income}\")\n",
        "    print(f\"- Monthly Expenses: ₹{expenses}\")\n",
        "    print(f\"- Savings Recommended: ₹{savings_recommended}\")\n",
        "    print(f\"- Investment Recommendation: {invest_result}\")\n",
        "    print(f\"- Insurance Recommendation: {insurance_result}\")\n"
      ]
    },
    {
      "cell_type": "code",
      "execution_count": 23,
      "metadata": {
        "colab": {
          "base_uri": "https://localhost:8080/"
        },
        "id": "B3HfW8a_g1vW",
        "outputId": "3f77be7c-8a33-4d5e-bf34-b5eb45d98cd8"
      },
      "outputs": [
        {
          "name": "stdout",
          "output_type": "stream",
          "text": [
            "Personalized Financial Plan\n",
            "- Monthly Income: ₹55000\n",
            "- Monthly Expenses: ₹30000\n",
            "- Savings Recommended: ₹12500\n",
            "- Investment Recommendation: Yes\n",
            "- Insurance Recommendation: No\n"
          ]
        }
      ],
      "source": [
        "# Example: A user with ₹55,000 income and ₹30,000 expenses saving for retirement with medium risk\n",
        "financial_assistant(\n",
        "    income=55000,\n",
        "    expenses=30000,\n",
        "    goal='retirement',\n",
        "    risk_level='medium'\n",
        ")\n"
      ]
    },
    {
      "cell_type": "code",
      "execution_count": 24,
      "metadata": {
        "colab": {
          "base_uri": "https://localhost:8080/",
          "height": 750
        },
        "id": "O8VGdadihpwd",
        "outputId": "879bc294-54f6-404b-e7c2-d52aba52e905"
      },
      "outputs": [
        {
          "name": "stdout",
          "output_type": "stream",
          "text": [
            "* Running on local URL:  http://127.0.0.1:7861\n",
            "\n",
            "To create a public link, set `share=True` in `launch()`.\n"
          ]
        },
        {
          "data": {
            "text/html": [
              "<div><iframe src=\"http://127.0.0.1:7861/\" width=\"100%\" height=\"500\" allow=\"autoplay; camera; microphone; clipboard-read; clipboard-write;\" frameborder=\"0\" allowfullscreen></iframe></div>"
            ],
            "text/plain": [
              "<IPython.core.display.HTML object>"
            ]
          },
          "metadata": {},
          "output_type": "display_data"
        },
        {
          "data": {
            "text/plain": []
          },
          "execution_count": 24,
          "metadata": {},
          "output_type": "execute_result"
        }
      ],
      "source": [
        "import gradio as gr\n",
        "\n",
        "def gradio_financial_assistant(income, expenses, goal, risk_level):\n",
        "    goal_num = goal_encoder.transform([goal])[0]\n",
        "    risk_num = risk_encoder.transform([risk_level])[0]\n",
        "    savings = income - expenses\n",
        "    savings_recommended = max(1000, int(savings * 0.5)) if savings > 0 else 0\n",
        "\n",
        "    user_df = pd.DataFrame([{\n",
        "        'Income': income,\n",
        "        'Expenses': expenses,\n",
        "        'Goal_encoded': goal_num,\n",
        "        'Risk_encoded': risk_num,\n",
        "        'Savings_Recommended': savings_recommended\n",
        "    }])\n",
        "\n",
        "    invest_pred = invest_model.predict(user_df)[0]\n",
        "    insurance_pred = insurance_model.predict(user_df)[0]\n",
        "\n",
        "    invest_result = invest_encoder.inverse_transform([invest_pred])[0]\n",
        "    insurance_result = insurance_encoder.inverse_transform([insurance_pred])[0]\n",
        "\n",
        "    return f\"\"\"### 📊 Personalized Financial Plan\n",
        "- **Monthly Income:** ₹{income}\n",
        "- **Monthly Expenses:** ₹{expenses}\n",
        "- **Savings Recommended:** ₹{savings_recommended}\n",
        "- **💼 Investment Recommendation:** {invest_result}\n",
        "- **🛡️ Insurance Recommendation:** {insurance_result}\n",
        "\"\"\"\n",
        "\n",
        "with gr.Blocks() as demo:\n",
        "    gr.Markdown(\"# 🤖 AI-Powered Financial Assistant\")\n",
        "    gr.Markdown(\"Fill in your financial details to get personalized advice.\")\n",
        "\n",
        "    with gr.Row():\n",
        "        income = gr.Number(label=\"Monthly Income (₹)\")\n",
        "        expenses = gr.Number(label=\"Monthly Expenses (₹)\")\n",
        "\n",
        "    with gr.Row():\n",
        "        goal = gr.Dropdown(choices=goals, label=\"Financial Goal\")\n",
        "        risk = gr.Dropdown(choices=risk_levels, label=\"Risk Level\")\n",
        "\n",
        "    submit_btn = gr.Button(\"Get My Financial Plan 💰\")\n",
        "    output = gr.Markdown()\n",
        "\n",
        "    submit_btn.click(\n",
        "        fn=gradio_financial_assistant,\n",
        "        inputs=[income, expenses, goal, risk],\n",
        "        outputs=output\n",
        "    )\n",
        "\n",
        "demo.launch()\n"
      ]
    }
  ],
  "metadata": {
    "colab": {
      "provenance": []
    },
    "kernelspec": {
      "display_name": "Python 3",
      "name": "python3"
    },
    "language_info": {
      "codemirror_mode": {
        "name": "ipython",
        "version": 3
      },
      "file_extension": ".py",
      "mimetype": "text/x-python",
      "name": "python",
      "nbconvert_exporter": "python",
      "pygments_lexer": "ipython3",
      "version": "3.11.9"
    }
  },
  "nbformat": 4,
  "nbformat_minor": 0
}
